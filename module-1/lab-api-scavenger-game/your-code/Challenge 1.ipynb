{
 "cells": [
  {
   "cell_type": "code",
   "execution_count": 1,
   "metadata": {},
   "outputs": [
    {
     "data": {
      "text/plain": [
       "True"
      ]
     },
     "execution_count": 1,
     "metadata": {},
     "output_type": "execute_result"
    }
   ],
   "source": [
    "import os\n",
    "import requests\n",
    "from dotenv import load_dotenv\n",
    "load_dotenv()"
   ]
  },
  {
   "cell_type": "code",
   "execution_count": 4,
   "metadata": {},
   "outputs": [],
   "source": [
    "# https://developer.github.com/v3/\n",
    "def githubRequestAuthorized(resource):\n",
    "    authToken = os.getenv(\"GITHUB_API_TOKEN\")\n",
    "    if not authToken:\n",
    "        raise ValueError(\"NECESITAS UN TOKEN\")\n",
    "    else:\n",
    "        print(\"We have a github token: \", authToken[0:4])\n",
    "    headers = {\n",
    "        \"Authorization\": \"token {}\".format(authToken)\n",
    "    }\n",
    "    url = \"https://api.github.com{}\".format(resource)\n",
    "    print(\"Requesting authorized {}\".format(url))\n",
    "    res = requests.get(url, headers=headers)\n",
    "    return res"
   ]
  },
  {
   "cell_type": "code",
   "execution_count": 5,
   "metadata": {},
   "outputs": [
    {
     "ename": "ValueError",
     "evalue": "NECESITAS UN TOKEN",
     "output_type": "error",
     "traceback": [
      "\u001b[0;31m---------------------------------------------------------------------------\u001b[0m",
      "\u001b[0;31mValueError\u001b[0m                                Traceback (most recent call last)",
      "\u001b[0;32m<ipython-input-5-7d0c227b6609>\u001b[0m in \u001b[0;36m<module>\u001b[0;34m\u001b[0m\n\u001b[0;32m----> 1\u001b[0;31m \u001b[0mdata\u001b[0m \u001b[0;34m=\u001b[0m \u001b[0mgithubRequestAuthorized\u001b[0m\u001b[0;34m(\u001b[0m\u001b[0;34m\"/repos/ironhack-datalabs/datamad1019/forks\"\u001b[0m\u001b[0;34m)\u001b[0m\u001b[0;34m.\u001b[0m\u001b[0mjson\u001b[0m\u001b[0;34m(\u001b[0m\u001b[0;34m)\u001b[0m\u001b[0;34m\u001b[0m\u001b[0;34m\u001b[0m\u001b[0m\n\u001b[0m",
      "\u001b[0;32m<ipython-input-4-4febab81921b>\u001b[0m in \u001b[0;36mgithubRequestAuthorized\u001b[0;34m(resource)\u001b[0m\n\u001b[1;32m      3\u001b[0m     \u001b[0mauthToken\u001b[0m \u001b[0;34m=\u001b[0m \u001b[0mos\u001b[0m\u001b[0;34m.\u001b[0m\u001b[0mgetenv\u001b[0m\u001b[0;34m(\u001b[0m\u001b[0;34m\"GITHUB_API_TOKEN\"\u001b[0m\u001b[0;34m)\u001b[0m\u001b[0;34m\u001b[0m\u001b[0;34m\u001b[0m\u001b[0m\n\u001b[1;32m      4\u001b[0m     \u001b[0;32mif\u001b[0m \u001b[0;32mnot\u001b[0m \u001b[0mauthToken\u001b[0m\u001b[0;34m:\u001b[0m\u001b[0;34m\u001b[0m\u001b[0;34m\u001b[0m\u001b[0m\n\u001b[0;32m----> 5\u001b[0;31m         \u001b[0;32mraise\u001b[0m \u001b[0mValueError\u001b[0m\u001b[0;34m(\u001b[0m\u001b[0;34m\"NECESITAS UN TOKEN\"\u001b[0m\u001b[0;34m)\u001b[0m\u001b[0;34m\u001b[0m\u001b[0;34m\u001b[0m\u001b[0m\n\u001b[0m\u001b[1;32m      6\u001b[0m     \u001b[0;32melse\u001b[0m\u001b[0;34m:\u001b[0m\u001b[0;34m\u001b[0m\u001b[0;34m\u001b[0m\u001b[0m\n\u001b[1;32m      7\u001b[0m         \u001b[0mprint\u001b[0m\u001b[0;34m(\u001b[0m\u001b[0;34m\"We have a github token: \"\u001b[0m\u001b[0;34m,\u001b[0m \u001b[0mauthToken\u001b[0m\u001b[0;34m[\u001b[0m\u001b[0;36m0\u001b[0m\u001b[0;34m:\u001b[0m\u001b[0;36m4\u001b[0m\u001b[0;34m]\u001b[0m\u001b[0;34m)\u001b[0m\u001b[0;34m\u001b[0m\u001b[0;34m\u001b[0m\u001b[0m\n",
      "\u001b[0;31mValueError\u001b[0m: NECESITAS UN TOKEN"
     ]
    }
   ],
   "source": [
    "data = githubRequestAuthorized(\"/repos/ironhack-datalabs/datamad1019/forks\").json()"
   ]
  },
  {
   "cell_type": "code",
   "execution_count": 6,
   "metadata": {},
   "outputs": [
    {
     "ename": "NameError",
     "evalue": "name 'data' is not defined",
     "output_type": "error",
     "traceback": [
      "\u001b[0;31m---------------------------------------------------------------------------\u001b[0m",
      "\u001b[0;31mNameError\u001b[0m                                 Traceback (most recent call last)",
      "\u001b[0;32m<ipython-input-6-c5d84736ba45>\u001b[0m in \u001b[0;36m<module>\u001b[0;34m\u001b[0m\n\u001b[0;32m----> 1\u001b[0;31m \u001b[0mdata\u001b[0m\u001b[0;34m\u001b[0m\u001b[0;34m\u001b[0m\u001b[0m\n\u001b[0m",
      "\u001b[0;31mNameError\u001b[0m: name 'data' is not defined"
     ]
    }
   ],
   "source": [
    "data"
   ]
  },
  {
   "cell_type": "code",
   "execution_count": 16,
   "metadata": {},
   "outputs": [
    {
     "data": {
      "text/plain": [
       "['Jupyter Notebook', None]"
      ]
     },
     "execution_count": 16,
     "metadata": {},
     "output_type": "execute_result"
    }
   ],
   "source": [
    "#list(set(map(lambda repo: repo[\"language\"], data)))"
   ]
  },
  {
   "cell_type": "code",
   "execution_count": 22,
   "metadata": {},
   "outputs": [
    {
     "data": {
      "text/plain": [
       "['https://api.github.com/repos/begoechavarren/datamad1019/languages',\n",
       " 'https://api.github.com/repos/mariobru/datamad1019/languages',\n",
       " 'https://api.github.com/repos/jlmingo/datamad1019/languages',\n",
       " 'https://api.github.com/repos/Ovion/datamad1019/languages',\n",
       " 'https://api.github.com/repos/ToniPons97/datamad1019/languages',\n",
       " 'https://api.github.com/repos/noeliacarrion/datamad1019/languages',\n",
       " 'https://api.github.com/repos/mariaadradosr/datamad1019/languages',\n",
       " 'https://api.github.com/repos/Juliopdata/datamad1019/languages',\n",
       " 'https://api.github.com/repos/guzmanueco/datamad1019/languages',\n",
       " 'https://api.github.com/repos/blancaalcala/datamad1019/languages',\n",
       " 'https://api.github.com/repos/AlexMndzF/datamad1019/languages',\n",
       " 'https://api.github.com/repos/David-Fde/datamad1019/languages',\n",
       " 'https://api.github.com/repos/MaikaRG/datamad1019/languages',\n",
       " 'https://api.github.com/repos/Turandot123/datamad1019/languages',\n",
       " 'https://api.github.com/repos/isagc/datamad1019/languages',\n",
       " 'https://api.github.com/repos/alfpml/datamad1019/languages',\n",
       " 'https://api.github.com/repos/mermora97/datamad1019/languages',\n",
       " 'https://api.github.com/repos/jm-cruz-d/datamad1019/languages',\n",
       " 'https://api.github.com/repos/blancalluch/datamad1019/languages',\n",
       " 'https://api.github.com/repos/albertovpd/datamad1019/languages',\n",
       " 'https://api.github.com/repos/mariaversin/datamad1019/languages',\n",
       " 'https://api.github.com/repos/seorakwon/datamad1019/languages',\n",
       " 'https://api.github.com/repos/Jpereza24/datamad1019/languages',\n",
       " 'https://api.github.com/repos/castares/datamad1019/languages',\n",
       " 'https://api.github.com/repos/progameitor/datamad1019/languages',\n",
       " 'https://api.github.com/repos/Masdevallia/datamad1019/languages',\n",
       " 'https://api.github.com/repos/cprietosegura/datamad1019/languages',\n",
       " 'https://api.github.com/repos/jgph91/datamad1019/languages',\n",
       " 'https://api.github.com/repos/alvarorivasg/datamad1019/languages',\n",
       " 'https://api.github.com/repos/Clapiniella/datamad1019/languages']"
      ]
     },
     "execution_count": 22,
     "metadata": {},
     "output_type": "execute_result"
    }
   ],
   "source": [
    "languages = []\n",
    "for x in data: \n",
    "    for k,v in x.items():\n",
    "        if k ==\"languages_url\":\n",
    "            languages.append(v)\n",
    "\n",
    "languages            "
   ]
  },
  {
   "cell_type": "code",
   "execution_count": 23,
   "metadata": {},
   "outputs": [
    {
     "name": "stdout",
     "output_type": "stream",
     "text": [
      "We have a github token:  83a7\n",
      "Requesting authorized https://api.github.com/repos/begoechavarren/datamad1019/languages\n",
      "We have a github token:  83a7\n",
      "Requesting authorized https://api.github.com/repos/mariobru/datamad1019/languages\n",
      "We have a github token:  83a7\n",
      "Requesting authorized https://api.github.com/repos/jlmingo/datamad1019/languages\n",
      "We have a github token:  83a7\n",
      "Requesting authorized https://api.github.com/repos/Ovion/datamad1019/languages\n",
      "We have a github token:  83a7\n",
      "Requesting authorized https://api.github.com/repos/ToniPons97/datamad1019/languages\n",
      "We have a github token:  83a7\n",
      "Requesting authorized https://api.github.com/repos/noeliacarrion/datamad1019/languages\n",
      "We have a github token:  83a7\n",
      "Requesting authorized https://api.github.com/repos/mariaadradosr/datamad1019/languages\n",
      "We have a github token:  83a7\n",
      "Requesting authorized https://api.github.com/repos/Juliopdata/datamad1019/languages\n",
      "We have a github token:  83a7\n",
      "Requesting authorized https://api.github.com/repos/guzmanueco/datamad1019/languages\n",
      "We have a github token:  83a7\n",
      "Requesting authorized https://api.github.com/repos/blancaalcala/datamad1019/languages\n",
      "We have a github token:  83a7\n",
      "Requesting authorized https://api.github.com/repos/AlexMndzF/datamad1019/languages\n",
      "We have a github token:  83a7\n",
      "Requesting authorized https://api.github.com/repos/David-Fde/datamad1019/languages\n",
      "We have a github token:  83a7\n",
      "Requesting authorized https://api.github.com/repos/MaikaRG/datamad1019/languages\n",
      "We have a github token:  83a7\n",
      "Requesting authorized https://api.github.com/repos/Turandot123/datamad1019/languages\n",
      "We have a github token:  83a7\n",
      "Requesting authorized https://api.github.com/repos/isagc/datamad1019/languages\n",
      "We have a github token:  83a7\n",
      "Requesting authorized https://api.github.com/repos/alfpml/datamad1019/languages\n",
      "We have a github token:  83a7\n",
      "Requesting authorized https://api.github.com/repos/mermora97/datamad1019/languages\n",
      "We have a github token:  83a7\n",
      "Requesting authorized https://api.github.com/repos/jm-cruz-d/datamad1019/languages\n",
      "We have a github token:  83a7\n",
      "Requesting authorized https://api.github.com/repos/blancalluch/datamad1019/languages\n",
      "We have a github token:  83a7\n",
      "Requesting authorized https://api.github.com/repos/albertovpd/datamad1019/languages\n",
      "We have a github token:  83a7\n",
      "Requesting authorized https://api.github.com/repos/mariaversin/datamad1019/languages\n",
      "We have a github token:  83a7\n",
      "Requesting authorized https://api.github.com/repos/seorakwon/datamad1019/languages\n",
      "We have a github token:  83a7\n",
      "Requesting authorized https://api.github.com/repos/Jpereza24/datamad1019/languages\n",
      "We have a github token:  83a7\n",
      "Requesting authorized https://api.github.com/repos/castares/datamad1019/languages\n",
      "We have a github token:  83a7\n",
      "Requesting authorized https://api.github.com/repos/progameitor/datamad1019/languages\n",
      "We have a github token:  83a7\n",
      "Requesting authorized https://api.github.com/repos/Masdevallia/datamad1019/languages\n",
      "We have a github token:  83a7\n",
      "Requesting authorized https://api.github.com/repos/cprietosegura/datamad1019/languages\n",
      "We have a github token:  83a7\n",
      "Requesting authorized https://api.github.com/repos/jgph91/datamad1019/languages\n",
      "We have a github token:  83a7\n",
      "Requesting authorized https://api.github.com/repos/alvarorivasg/datamad1019/languages\n",
      "We have a github token:  83a7\n",
      "Requesting authorized https://api.github.com/repos/Clapiniella/datamad1019/languages\n"
     ]
    }
   ],
   "source": [
    "datex = [githubRequestAuthorized(str(lan[22:])).json() for lan in languages]"
   ]
  },
  {
   "cell_type": "code",
   "execution_count": 26,
   "metadata": {},
   "outputs": [
    {
     "name": "stdout",
     "output_type": "stream",
     "text": [
      "['HTML', 'Jupyter Notebook', 'Python']\n"
     ]
    }
   ],
   "source": [
    "languas=[]\n",
    "for dicc in datex:\n",
    "    for key, value in dicc.items():\n",
    "        languas.append(key)\n",
    "        \n",
    "print(list(set(languas)))"
   ]
  },
  {
   "cell_type": "code",
   "execution_count": null,
   "metadata": {},
   "outputs": [],
   "source": []
  }
 ],
 "metadata": {
  "kernelspec": {
   "display_name": "Python 3",
   "language": "python",
   "name": "python3"
  },
  "language_info": {
   "codemirror_mode": {
    "name": "ipython",
    "version": 3
   },
   "file_extension": ".py",
   "mimetype": "text/x-python",
   "name": "python",
   "nbconvert_exporter": "python",
   "pygments_lexer": "ipython3",
   "version": "3.7.5"
  }
 },
 "nbformat": 4,
 "nbformat_minor": 2
}
