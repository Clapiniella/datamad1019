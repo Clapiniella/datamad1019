{
 "cells": [
  {
   "cell_type": "markdown",
   "metadata": {},
   "source": [
    "# Web Scraping Lab\n",
    "\n",
    "You will find in this notebook some scrapy exercises to practise your scraping skills.\n",
    "\n",
    "**Tips:**\n",
    "\n",
    "- Check the response status code for each request to ensure you have obtained the intended contennt.\n",
    "- Print the response text in each request to understand the kind of info you are getting and its format.\n",
    "- Check for patterns in the response text to extract the data/info requested in each question.\n",
    "- Visit each url and take a look at its source through Chrome DevTools. You'll need to identify the html tags, special class names etc. used for the html content you are expected to extract."
   ]
  },
  {
   "cell_type": "markdown",
   "metadata": {},
   "source": [
    "- [Requests library](http://docs.python-requests.org/en/master/#the-user-guide) documentation \n",
    "- [Beautiful Soup Doc](https://www.crummy.com/software/BeautifulSoup/bs4/doc/)\n",
    "- [Urllib](https://docs.python.org/3/library/urllib.html#module-urllib)\n",
    "- [re lib](https://docs.python.org/3/library/re.html)\n",
    "- [lxml lib](https://lxml.de/)\n",
    "- [Scrapy](https://scrapy.org/)\n",
    "- [List of HTTP status codes](https://en.wikipedia.org/wiki/List_of_HTTP_status_codes)\n",
    "- [HTML basics](http://www.simplehtmlguide.com/cheatsheet.php)\n",
    "- [CSS basics](https://www.cssbasics.com/#page_start)"
   ]
  },
  {
   "cell_type": "markdown",
   "metadata": {},
   "source": [
    "#### Below are the libraries and modules you may need. `requests`,  `BeautifulSoup` and `pandas` are imported for you. If you prefer to use additional libraries feel free to uncomment them."
   ]
  },
  {
   "cell_type": "code",
   "execution_count": 44,
   "metadata": {},
   "outputs": [],
   "source": [
    "import requests\n",
    "from bs4 import BeautifulSoup\n",
    "import pandas as pd\n",
    "from pprint import pprint\n",
    "import urllib.request as ur\n",
    "from urllib.request import urlopen\n",
    "import random\n",
    "import re\n",
    "import lxml \n"
   ]
  },
  {
   "cell_type": "markdown",
   "metadata": {},
   "source": [
    "#### Download, parse (using BeautifulSoup), and print the content from the Trending Developers page from GitHub:"
   ]
  },
  {
   "cell_type": "code",
   "execution_count": null,
   "metadata": {},
   "outputs": [],
   "source": [
    "# This is the url you will scrape in this exercise\n",
    "url = 'https://github.com/trending/developers'"
   ]
  },
  {
   "cell_type": "code",
   "execution_count": null,
   "metadata": {},
   "outputs": [],
   "source": [
    "#your code\n",
    "res = requests.get(url)\n",
    "html = res.text\n",
    "html[:20]\n",
    "developers = BeautifulSoup(html, 'html.parser')\n",
    "developers"
   ]
  },
  {
   "cell_type": "markdown",
   "metadata": {},
   "source": [
    "#### Display the names of the trending developers retrieved in the previous step.\n",
    "\n",
    "Your output should be a Python list of developer names. Each name should not contain any html tag.\n",
    "\n",
    "**Instructions:**\n",
    "\n",
    "1. Find out the html tag and class names used for the developer names. You can achieve this using Chrome DevTools.\n",
    "\n",
    "1. Use BeautifulSoup to extract all the html elements that contain the developer names.\n",
    "\n",
    "1. Use string manipulation techniques to replace whitespaces and linebreaks (i.e. `\\n`) in the *text* of each html element. Use a list to store the clean names.\n",
    "\n",
    "1. Print the list of names.\n",
    "\n",
    "Your output should look like below:\n",
    "\n",
    "```\n",
    "['trimstray (@trimstray)',\n",
    " 'joewalnes (JoeWalnes)',\n",
    " 'charlax (Charles-AxelDein)',\n",
    " 'ForrestKnight (ForrestKnight)',\n",
    " 'revery-ui (revery-ui)',\n",
    " 'alibaba (Alibaba)',\n",
    " 'Microsoft (Microsoft)',\n",
    " 'github (GitHub)',\n",
    " 'facebook (Facebook)',\n",
    " 'boazsegev (Bo)',\n",
    " 'google (Google)',\n",
    " 'cloudfetch',\n",
    " 'sindresorhus (SindreSorhus)',\n",
    " 'tensorflow',\n",
    " 'apache (TheApacheSoftwareFoundation)',\n",
    " 'DevonCrawford (DevonCrawford)',\n",
    " 'ARMmbed (ArmMbed)',\n",
    " 'vuejs (vuejs)',\n",
    " 'fastai (fast.ai)',\n",
    " 'QiShaoXuan (Qi)',\n",
    " 'joelparkerhenderson (JoelParkerHenderson)',\n",
    " 'torvalds (LinusTorvalds)',\n",
    " 'CyC2018',\n",
    " 'komeiji-satori (神楽坂覚々)',\n",
    " 'script-8']\n",
    " ```"
   ]
  },
  {
   "cell_type": "code",
   "execution_count": null,
   "metadata": {},
   "outputs": [],
   "source": [
    "#your code\n",
    "names= developers.select('.h3 a')"
   ]
  },
  {
   "cell_type": "code",
   "execution_count": null,
   "metadata": {},
   "outputs": [],
   "source": [
    "apodos=[]\n",
    "for nombre in names:\n",
    "    apodos.append(nombre.get(\"href\"))"
   ]
  },
  {
   "cell_type": "code",
   "execution_count": null,
   "metadata": {},
   "outputs": [],
   "source": [
    "apoditos=[]\n",
    "for a in apodos:\n",
    "    apoditos.append(a.strip(\"/\"))"
   ]
  },
  {
   "cell_type": "code",
   "execution_count": null,
   "metadata": {},
   "outputs": [],
   "source": [
    "hola= list(map(lambda a: \"(\"+ a +\")\", apoditos))"
   ]
  },
  {
   "cell_type": "code",
   "execution_count": null,
   "metadata": {},
   "outputs": [],
   "source": [
    "nombres = []\n",
    "for nombre in names:\n",
    "    nombres.append(nombre.text)"
   ]
  },
  {
   "cell_type": "code",
   "execution_count": null,
   "metadata": {},
   "outputs": [],
   "source": [
    "no=[]\n",
    "for nombre in nombres: \n",
    "    no.append(nombre.replace(\" \", \"\"))\n",
    "\n",
    "cosa=[]\n",
    "for a in no:\n",
    "    cosa.append(a.strip(\"\\n\"))"
   ]
  },
  {
   "cell_type": "code",
   "execution_count": null,
   "metadata": {},
   "outputs": [],
   "source": [
    "listafinal= (list(zip(cosa, hola)))"
   ]
  },
  {
   "cell_type": "code",
   "execution_count": null,
   "metadata": {},
   "outputs": [],
   "source": [
    "[\"{} {}\".format(i[0], i[1]) for i in listafinal]"
   ]
  },
  {
   "cell_type": "markdown",
   "metadata": {},
   "source": [
    "#### Display the trending Python repositories in GitHub\n",
    "\n",
    "The steps to solve this problem is similar to the previous one except that you need to find out the repository names instead of developer names."
   ]
  },
  {
   "cell_type": "code",
   "execution_count": 4,
   "metadata": {},
   "outputs": [],
   "source": [
    "# This is the url you will scrape in this exercise\n",
    "url = 'https://github.com/trending/python?since=daily'"
   ]
  },
  {
   "cell_type": "code",
   "execution_count": 11,
   "metadata": {},
   "outputs": [],
   "source": [
    "#your code\n",
    "resi = requests.get(url)\n",
    "html = resi.text\n",
    "html[:20]\n",
    "repos = BeautifulSoup(html, 'html.parser')"
   ]
  },
  {
   "cell_type": "code",
   "execution_count": 12,
   "metadata": {},
   "outputs": [],
   "source": [
    "repositoris= repos.select('.h3 a')"
   ]
  },
  {
   "cell_type": "code",
   "execution_count": 17,
   "metadata": {},
   "outputs": [],
   "source": [
    "reposis=[]\n",
    "for i in repositoris:\n",
    "    reposis.append(i.get(\"href\"))"
   ]
  },
  {
   "cell_type": "code",
   "execution_count": 14,
   "metadata": {},
   "outputs": [
    {
     "data": {
      "text/plain": [
       "['deezer/spleeter',\n",
       " 'openai/gpt-2',\n",
       " 'PaddlePaddle/models',\n",
       " '0voice/interview_internal_reference',\n",
       " 'kubernetes-client/python',\n",
       " 'svjan5/GNNs-for-NLP',\n",
       " 'Linzaer/Ultra-Light-Fast-Generic-Face-Detector-1MB',\n",
       " 'huggingface/transformers',\n",
       " 'MalongTech/research-charnet',\n",
       " 'thorn-oss/perception',\n",
       " 'eastlakeside/interpy-zh',\n",
       " 'Azure/azure-cli',\n",
       " 'encode/django-rest-framework',\n",
       " 'wangzheng0822/algo',\n",
       " 'marshmallow-code/marshmallow',\n",
       " 'tensorflow/models',\n",
       " 'momika233/ClamAV_0Day_exploit',\n",
       " 'zihangdai/xlnet',\n",
       " 'sinovation/ZEN',\n",
       " 'shenweichen/DeepCTR',\n",
       " 'google-research/bert',\n",
       " 'geekcomputers/Python',\n",
       " 'facebookresearch/hydra',\n",
       " 'encode/httpx',\n",
       " 'charlesq34/pointnet2']"
      ]
     },
     "execution_count": 14,
     "metadata": {},
     "output_type": "execute_result"
    }
   ],
   "source": [
    "rep=[]\n",
    "for e in reposis: \n",
    "    rep.append(e.replace(\"/\", \"\", 1))\n",
    "    \n",
    "rep"
   ]
  },
  {
   "cell_type": "markdown",
   "metadata": {},
   "source": [
    "#### Display all the image links from Walt Disney wikipedia page"
   ]
  },
  {
   "cell_type": "code",
   "execution_count": null,
   "metadata": {},
   "outputs": [],
   "source": [
    "# This is the url you will scrape in this exercise\n",
    "url = 'https://en.wikipedia.org/wiki/Walt_Disney'"
   ]
  },
  {
   "cell_type": "code",
   "execution_count": 53,
   "metadata": {},
   "outputs": [],
   "source": [
    "#your code\n",
    "from IPython.display import Image\n",
    "from IPython.core.display import HTML "
   ]
  },
  {
   "cell_type": "code",
   "execution_count": 56,
   "metadata": {},
   "outputs": [],
   "source": [
    "content = requests.get(url).content\n",
    "soup = BeautifulSoup(content,'html.parser') \n",
    "image_tags = soup.findAll('img')\n",
    "\n",
    "fotos=[]\n",
    "for image_tag in image_tags:\n",
    "    fotos.append(image_tag.get('src'))"
   ]
  },
  {
   "cell_type": "code",
   "execution_count": 67,
   "metadata": {},
   "outputs": [
    {
     "data": {
      "text/html": [
       "<img src=\"//upload.wikimedia.org/wikipedia/commons/thumb/7/71/Walt_Disney_and_his_cartoon_creation_%22Mickey_Mouse%22_-_National_Board_of_Review_Magazine.jpg/170px-Walt_Disney_and_his_cartoon_creation_%22Mickey_Mouse%22_-_National_Board_of_Review_Magazine.jpg\"/>"
      ],
      "text/plain": [
       "<IPython.core.display.Image object>"
      ]
     },
     "metadata": {},
     "output_type": "display_data"
    }
   ],
   "source": [
    "display(Image(url=fotos[7]))"
   ]
  },
  {
   "cell_type": "markdown",
   "metadata": {},
   "source": [
    "#### Retrieve an arbitary Wikipedia page of \"Python\" and create a list of links on that page"
   ]
  },
  {
   "cell_type": "code",
   "execution_count": 90,
   "metadata": {},
   "outputs": [],
   "source": [
    "# This is the url you will scrape in this exercise\n",
    "url ='https://en.wikipedia.org/wiki/Python' "
   ]
  },
  {
   "cell_type": "code",
   "execution_count": 91,
   "metadata": {},
   "outputs": [],
   "source": [
    "#your code\n",
    "response = requests.get(url)\n",
    "soup = BeautifulSoup(content, \"html.parser\")\n",
    "links = soup.findAll('a')\n",
    "\n",
    "listiti=[]\n",
    "for link in links:\n",
    "    href = link.get('href')\n",
    "    if href and href[:4] == \"http\":\n",
    "        listiti.append(href)"
   ]
  },
  {
   "cell_type": "markdown",
   "metadata": {},
   "source": [
    "#### Number of Titles that have changed in the United States Code since its last release point "
   ]
  },
  {
   "cell_type": "code",
   "execution_count": 88,
   "metadata": {},
   "outputs": [],
   "source": [
    "# This is the url you will scrape in this exercise\n",
    "url = 'http://uscode.house.gov/download/download.shtml'"
   ]
  },
  {
   "cell_type": "code",
   "execution_count": 89,
   "metadata": {},
   "outputs": [
    {
     "data": {
      "text/plain": [
       "2"
      ]
     },
     "execution_count": 89,
     "metadata": {},
     "output_type": "execute_result"
    }
   ],
   "source": [
    "#your code\n",
    "res= requests.get(url)\n",
    "html=res.text\n",
    "soup = BeautifulSoup(html, \"html.parser\")\n",
    "americano = soup.select('.usctitlechanged')\n",
    "listito=[]\n",
    "for america in americano:\n",
    "    listito.append(america.text)\n",
    "len(listito)"
   ]
  },
  {
   "cell_type": "markdown",
   "metadata": {},
   "source": [
    "#### A Python list with the top ten FBI's Most Wanted names "
   ]
  },
  {
   "cell_type": "code",
   "execution_count": 92,
   "metadata": {},
   "outputs": [],
   "source": [
    "# This is the url you will scrape in this exercise\n",
    "url = 'https://www.fbi.gov/wanted/topten'"
   ]
  },
  {
   "cell_type": "code",
   "execution_count": 112,
   "metadata": {},
   "outputs": [
    {
     "data": {
      "text/plain": [
       "list"
      ]
     },
     "execution_count": 112,
     "metadata": {},
     "output_type": "execute_result"
    }
   ],
   "source": [
    "#your code \n",
    "res= requests.get(url)\n",
    "html=res.text\n",
    "html[:10]\n",
    "soup = BeautifulSoup(html, \"html.parser\")\n",
    "fbi = soup.select('img')\n",
    "type(fbi)"
   ]
  },
  {
   "cell_type": "code",
   "execution_count": 115,
   "metadata": {},
   "outputs": [
    {
     "name": "stdout",
     "output_type": "stream",
     "text": [
      "['JASON DEREK BROWN', 'ALEXIS FLORES', 'EUGENE PALMER', 'SANTIAGO VILLALBA MEDEROS', 'RAFAEL CARO-QUINTERO', 'ROBERT WILLIAM FISHER', 'BHADRESHKUMAR CHETANBHAI PATEL', 'ARNOLDO JIMENEZ', 'ALEJANDRO ROSALES CASTILLO', 'YASER ABDEL SAID']\n"
     ]
    }
   ],
   "source": [
    "most=[]\n",
    "for poli in fbi:\n",
    "    href = poli.get('alt')\n",
    "    most.append(href)\n",
    "print(most[1:])"
   ]
  },
  {
   "cell_type": "markdown",
   "metadata": {},
   "source": [
    "####  20 latest earthquakes info (date, time, latitude, longitude and region name) by the EMSC as a pandas dataframe"
   ]
  },
  {
   "cell_type": "code",
   "execution_count": 125,
   "metadata": {},
   "outputs": [],
   "source": [
    "# This is the url you will scrape in this exercise\n",
    "url = 'https://www.emsc-csem.org/Earthquake/'"
   ]
  },
  {
   "cell_type": "code",
   "execution_count": 129,
   "metadata": {},
   "outputs": [],
   "source": [
    "#your code\n",
    "res= requests.get(url)\n",
    "html=res.text\n",
    "html[:10]\n",
    "soup = BeautifulSoup(html, \"html.parser\")"
   ]
  },
  {
   "cell_type": "code",
   "execution_count": 150,
   "metadata": {},
   "outputs": [
    {
     "name": "stdout",
     "output_type": "stream",
     "text": [
      "\n",
      "\n",
      "\n",
      "\n",
      "CitizenResponseDate & Time UTCLatitude degreesLongitude degreesDepth kmMag  [+]Region name  [+]Last update [-]\n",
      "\n",
      "12345678910›»earthquake2019-11-07   18:56:03.807min ago35.72 N  121.06 W  7Md2.3 CENTRAL CALIFORNIA2019-11-07 18:57\n",
      "3IIIearthquake2019-11-07   18:38:27.425min ago46.29 N  7.37 E  2ML2.5 SWITZERLAND2019-11-07 18:51\n",
      "34IIIearthquake2019-11-07   18:35:26.228min ago46.32 N  7.35 E  4ML3.4 SWITZERLAND2019-11-07 18:51\n",
      "earthquake2019-11-07   18:25:00.039min ago16.36 S  72.82 W  15 M3.7 NEAR COAST OF SOUTHERN PERU2019-11-07 19:02\n",
      "earthquake2019-11-07   18:21:12.742min ago19.14 N  155.64 W  1Md2.0 ISLAND OF HAWAII, HAWAII2019-11-07 18:24\n",
      "earthquake2019-11-07   18:16:30.047min ago11.30 N  86.32 W  31 M3.6 NEAR COAST OF NICARAGUA2019-11-07 18:45\n",
      "earthquake2019-11-07   18:00:57.01hr 03min ago27.08 N  55.14 E  10mb4.5 SOUTHERN IRAN2019-11-07 18:59\n",
      "earthquake2019-11-07   17:59:30.01hr 04min ago8.64 N  82.81 W  26 M3.4 PANAMA-COSTA RICA BORDER REGION2019-11-07 18:32\n",
      "earthquake2019-11-07   17:54:30.01hr 09min ago11.49 N  85.98 W  170 M3.6 NICARAGUA2019-11-07 18:32\n",
      "1Fearthquake2019-11-07   17:52:17.61hr 11min ago34.27 N  119.29 W  7Ml2.4 SANTA BARBARA CHANNEL, CALIF.2019-11-07 17:56\n",
      "earthquake2019-11-07   17:48:50.61hr 15min ago27.29 N  55.02 E  8ML3.5 SOUTHERN IRAN2019-11-07 18:39\n",
      "earthquake2019-11-07   17:47:53.21hr 16min ago41.77 N  13.61 E  13ML2.2 SOUTHERN ITALY2019-11-07 17:55\n",
      "146Vearthquake2019-11-07   17:35:21.71hr 28min ago41.78 N  13.61 E  14ML4.4 SOUTHERN ITALY2019-11-07 17:57\n",
      "9IVearthquake2019-11-07   17:29:58.11hr 34min ago12.85 S  45.45 E  40ML4.1 MAYOTTE REGION2019-11-07 18:10\n",
      "earthquake2019-11-07   17:18:00.01hr 46min ago12.41 S  77.18 W  33 M3.6 NEAR COAST OF CENTRAL PERU2019-11-07 17:45\n",
      "earthquake2019-11-07   17:11:12.71hr 52min ago37.77 N  21.99 E  13ML2.6 SOUTHERN GREECE2019-11-07 18:08\n",
      "earthquake2019-11-07   16:50:25.02hr 13min ago31.78 S  71.30 W  58ML3.7 COQUIMBO, CHILE2019-11-07 17:05\n",
      "earthquake2019-11-07   16:24:29.12hr 39min ago39.14 N  20.61 E  8ML3.1 GREECE2019-11-07 16:43\n",
      "earthquake2019-11-07   15:40:53.73hr 23min ago43.93 N  11.59 E  8ML2.4 CENTRAL ITALY2019-11-07 15:54\n",
      "earthquake2019-11-07   15:40:09.03hr 23min ago31.37 S  68.55 W  99 M3.6 SAN JUAN, ARGENTINA2019-11-07 15:45\n",
      "earthquake2019-11-07   15:14:49.03hr 49min ago21.65 S  68.63 W  128ML3.0 ANTOFAGASTA, CHILE2019-11-07 15:27\n",
      "earthquake2019-11-07   15:08:11.63hr 55min ago42.72 N  13.23 E  13ML2.3 CENTRAL ITALY2019-11-07 15:15\n",
      "earthquake2019-11-07   15:01:10.84hr 02min ago42.73 N  13.25 E  11ML2.0 CENTRAL ITALY2019-11-07 15:07\n",
      "1Fearthquake2019-11-07   14:54:15.54hr 09min ago34.27 N  119.29 W  7Ml2.3 SANTA BARBARA CHANNEL, CALIF.2019-11-07 14:57\n",
      "Fearthquake2019-11-07   14:52:50.54hr 11min ago34.27 N  119.29 W  7Ml2.4 SANTA BARBARA CHANNEL, CALIF.2019-11-07 14:56\n",
      "earthquake2019-11-07   14:37:54.34hr 26min ago19.12 N  67.24 W  46Md2.5 PUERTO RICO REGION2019-11-07 16:19\n",
      "earthquake2019-11-07   14:36:33.34hr 27min ago27.15 N  55.04 E  18ML3.9 SOUTHERN IRAN2019-11-07 16:46\n",
      "1Fearthquake2019-11-07   14:33:33.74hr 30min ago34.28 N  119.29 W  11Ml2.4 GREATER LOS ANGELES AREA, CALIF.2019-11-07 17:41\n",
      "earthquake2019-11-07   14:33:33.04hr 30min ago19.80 N  69.83 W  12 M3.0 DOMINICAN REPUBLIC REGION2019-11-07 15:12\n",
      "earthquake2019-11-07   14:21:48.64hr 42min ago3.98 S  104.01 W  10mb4.8 CENTRAL EAST PACIFIC RISE2019-11-07 14:42\n",
      "earthquake2019-11-07   13:34:38.15hr 29min ago59.02 N  152.18 W  65ML2.5 SOUTHERN ALASKA2019-11-07 14:57\n",
      "1Fearthquake2019-11-07   13:30:57.85hr 33min ago34.27 N  119.30 W  3Ml2.1 SANTA BARBARA CHANNEL, CALIF.2019-11-07 13:33\n",
      "earthquake2019-11-07   13:28:52.75hr 35min ago36.69 N  98.44 W  7ML2.4 OKLAHOMA2019-11-07 16:14\n",
      "earthquake2019-11-07   13:25:35.35hr 38min ago46.26 N  7.01 E  1ML1.5 SWITZERLAND2019-11-07 13:31\n",
      "1Fearthquake2019-11-07   13:19:44.85hr 44min ago34.27 N  119.29 W  7Ml2.2 SANTA BARBARA CHANNEL, CALIF.2019-11-07 13:23\n",
      "earthquake2019-11-07   13:16:11.05hr 47min ago12.97 N  89.06 W  48 M3.8 OFFSHORE EL SALVADOR2019-11-07 13:30\n",
      "earthquake2019-11-07   13:07:32.25hr 56min ago29.17 S  12.87 W  10mb5.0 SOUTHERN MID-ATLANTIC RIDGE2019-11-07 15:52\n",
      "25IVearthquake2019-11-07   13:05:39.45hr 58min ago34.28 N  119.29 W  15ML3.4 GREATER LOS ANGELES AREA, CALIF.2019-11-07 15:14\n",
      "earthquake2019-11-07   12:59:43.36hr 04min ago38.13 N  38.77 E  7ML2.1 EASTERN TURKEY2019-11-07 13:37\n",
      "8IVearthquake2019-11-07   12:58:41.66hr 05min ago34.27 N  119.29 W  11Ml3.2 SANTA BARBARA CHANNEL, CALIF.2019-11-07 15:37\n",
      "earthquake2019-11-07   12:50:40.06hr 13min ago9.86 N  126.28 E  15 M4.2 MINDANAO, PHILIPPINES2019-11-07 13:00\n",
      "18IVearthquake2019-11-07   12:38:59.66hr 25min ago35.75 N  117.59 W  8Ml3.5 SOUTHERN CALIFORNIA2019-11-07 15:49\n",
      "earthquake2019-11-07   12:02:16.77hr 01min ago19.16 N  155.46 W  33Ml2.5 ISLAND OF HAWAII, HAWAII2019-11-07 12:08\n",
      "earthquake2019-11-07   11:58:33.97hr 05min ago46.76 N  10.17 E  8ML1.6 SWITZERLAND2019-11-07 16:28\n",
      "earthquake2019-11-07   11:06:50.07hr 57min ago18.17 S  69.69 W  100ML3.3 TARAPACA, CHILE2019-11-07 11:33\n",
      "earthquake2019-11-07   11:02:12.08hr 01min ago35.22 S  72.41 W  40ML3.6 OFFSHORE MAULE, CHILE2019-11-07 11:18\n",
      "earthquake2019-11-07   11:01:51.38hr 02min ago45.77 N  26.82 E  70ML2.7 ROMANIA2019-11-07 13:19\n",
      "earthquake2019-11-07   11:00:29.58hr 03min ago19.16 N  155.47 W  36Md2.6 ISLAND OF HAWAII, HAWAII2019-11-07 11:03\n",
      "earthquake2019-11-07   10:48:21.38hr 15min ago47.54 N  8.18 E  0ML2.0 SWITZERLAND2019-11-07 10:55\n",
      "3Fearthquake2019-11-07   10:46:42.08hr 17min ago35.70 N  117.54 W  10Ml2.9 SOUTHERN CALIFORNIA2019-11-07 10:50\n",
      " 12345678910›»\n"
     ]
    }
   ],
   "source": [
    "table = soup.findAll('table')[3]\n",
    "table= table.text\n",
    "print(table)\n"
   ]
  },
  {
   "cell_type": "code",
   "execution_count": 157,
   "metadata": {},
   "outputs": [
    {
     "name": "stdout",
     "output_type": "stream",
     "text": [
      "['2019-11-07', '2019-11-07', '2019-11-07', '2019-11-07', '2019-11-07', '2019-11-07', '2019-11-07', '2019-11-07', '2019-11-07']\n"
     ]
    }
   ],
   "source": [
    "fecha = re.findall(r\"[0-9]{4}\\-[0-9]{2}\\-[0-9]{2}\", table)\n",
    "print(fecha[:21])"
   ]
  },
  {
   "cell_type": "code",
   "execution_count": 159,
   "metadata": {},
   "outputs": [
    {
     "name": "stdout",
     "output_type": "stream",
     "text": [
      "['18:00:57.01hr', '17:59:30.01hr', '17:54:30.01hr', '17:52:17.61hr', '17:48:50.61hr', '17:47:53.21hr', '17:35:21.71hr', '17:29:58.11hr', '17:18:00.01hr']\n"
     ]
    }
   ],
   "source": [
    "hora = re.findall(r\"[0-9]{2}\\:[0-9]{2}\\:[0-9]{2}\\.[0-9]{2}hr\", table)\n",
    "print(hora[:21])"
   ]
  },
  {
   "cell_type": "code",
   "execution_count": 160,
   "metadata": {},
   "outputs": [
    {
     "name": "stdout",
     "output_type": "stream",
     "text": [
      "['35.72\\xa0N', '46.29\\xa0N', '46.32\\xa0N', '16.36\\xa0S', '19.14\\xa0N', '11.30\\xa0N', '27.08\\xa0N', '11.49\\xa0N', '34.27\\xa0N']\n"
     ]
    }
   ],
   "source": [
    "latitude = re.findall(r\"[0-9]{2}\\.[0-9]{2}\\s[NS]\", table)\n",
    "print(latitude[:21])"
   ]
  },
  {
   "cell_type": "code",
   "execution_count": 161,
   "metadata": {},
   "outputs": [
    {
     "name": "stdout",
     "output_type": "stream",
     "text": [
      "['21.06\\xa0W', '72.82\\xa0W', '55.64\\xa0W', '86.32\\xa0W', '55.14\\xa0E', '82.81\\xa0W', '85.98\\xa0W', '19.29\\xa0W', '55.02\\xa0E']\n"
     ]
    }
   ],
   "source": [
    "longitud = re.findall(r\"[0-9]{2}\\.[0-9]{2}\\s[WE]\", table)\n",
    "print(longitud[:21])"
   ]
  },
  {
   "cell_type": "code",
   "execution_count": 198,
   "metadata": {},
   "outputs": [
    {
     "name": "stdout",
     "output_type": "stream",
     "text": [
      "['\\xa0CENTRAL CALIFORNIA', '\\xa0SWITZERLAND', '\\xa0SWITZERLAND', '\\xa0NEAR COAST OF SOUTHERN PERU', '\\xa0ISLAND OF HAWAII, HAWAII', '\\xa0NEAR COAST OF NICARAGUA', '\\xa0SOUTHERN IRAN', '\\xa0PANAMA-COSTA RICA BORDER REGION', ' NICARAGUA', '\\xa0SANTA BARBARA CHANNEL, CALIF.', '\\xa0SOUTHERN IRAN', '\\xa0SOUTHERN ITALY', '\\xa0SOUTHERN ITALY', '\\xa0MAYOTTE REGION', '\\xa0NEAR COAST OF CENTRAL PERU', '\\xa0SOUTHERN GREECE', '\\xa0COQUIMBO, CHILE', '\\xa0GREECE', '\\xa0CENTRAL ITALY', '\\xa0SAN JUAN, ARGENTINA', '\\xa0ANTOFAGASTA, CHILE']\n"
     ]
    }
   ],
   "source": [
    "region = re.findall(r\"\\d.\\d\\s[A-Z]+.+\\D\", table)\n",
    "reg= [re.sub(\"\\d.\\d\",\"\", nombre) for nombre in region] \n",
    "regi= [re.sub(\"\\n\",\"\", nombre) for nombre in reg] \n",
    "regio= [re.sub(\"\\d\",\"\", nombre) for nombre in regi] \n",
    "regionn= [re.sub(\"M\\s\",\"\", nombre) for nombre in regio]\n",
    "print(regionn[:21])\n"
   ]
  },
  {
   "cell_type": "code",
   "execution_count": 200,
   "metadata": {},
   "outputs": [
    {
     "data": {
      "text/html": [
       "<div>\n",
       "<style scoped>\n",
       "    .dataframe tbody tr th:only-of-type {\n",
       "        vertical-align: middle;\n",
       "    }\n",
       "\n",
       "    .dataframe tbody tr th {\n",
       "        vertical-align: top;\n",
       "    }\n",
       "\n",
       "    .dataframe thead th {\n",
       "        text-align: right;\n",
       "    }\n",
       "</style>\n",
       "<table border=\"1\" class=\"dataframe\">\n",
       "  <thead>\n",
       "    <tr style=\"text-align: right;\">\n",
       "      <th></th>\n",
       "      <th>day</th>\n",
       "      <th>time</th>\n",
       "      <th>latitude</th>\n",
       "      <th>longitude</th>\n",
       "      <th>region</th>\n",
       "    </tr>\n",
       "  </thead>\n",
       "  <tbody>\n",
       "    <tr>\n",
       "      <th>0</th>\n",
       "      <td>2019-11-07</td>\n",
       "      <td>18:00:57.01hr</td>\n",
       "      <td>35.72 N</td>\n",
       "      <td>21.06 W</td>\n",
       "      <td>CENTRAL CALIFORNIA</td>\n",
       "    </tr>\n",
       "    <tr>\n",
       "      <th>1</th>\n",
       "      <td>2019-11-07</td>\n",
       "      <td>17:59:30.01hr</td>\n",
       "      <td>46.29 N</td>\n",
       "      <td>72.82 W</td>\n",
       "      <td>SWITZERLAND</td>\n",
       "    </tr>\n",
       "    <tr>\n",
       "      <th>2</th>\n",
       "      <td>2019-11-07</td>\n",
       "      <td>17:54:30.01hr</td>\n",
       "      <td>46.32 N</td>\n",
       "      <td>55.64 W</td>\n",
       "      <td>SWITZERLAND</td>\n",
       "    </tr>\n",
       "    <tr>\n",
       "      <th>3</th>\n",
       "      <td>2019-11-07</td>\n",
       "      <td>17:52:17.61hr</td>\n",
       "      <td>16.36 S</td>\n",
       "      <td>86.32 W</td>\n",
       "      <td>NEAR COAST OF SOUTHERN PERU</td>\n",
       "    </tr>\n",
       "    <tr>\n",
       "      <th>4</th>\n",
       "      <td>2019-11-07</td>\n",
       "      <td>17:48:50.61hr</td>\n",
       "      <td>19.14 N</td>\n",
       "      <td>55.14 E</td>\n",
       "      <td>ISLAND OF HAWAII, HAWAII</td>\n",
       "    </tr>\n",
       "    <tr>\n",
       "      <th>5</th>\n",
       "      <td>2019-11-07</td>\n",
       "      <td>17:47:53.21hr</td>\n",
       "      <td>11.30 N</td>\n",
       "      <td>82.81 W</td>\n",
       "      <td>NEAR COAST OF NICARAGUA</td>\n",
       "    </tr>\n",
       "    <tr>\n",
       "      <th>6</th>\n",
       "      <td>2019-11-07</td>\n",
       "      <td>17:35:21.71hr</td>\n",
       "      <td>27.08 N</td>\n",
       "      <td>85.98 W</td>\n",
       "      <td>SOUTHERN IRAN</td>\n",
       "    </tr>\n",
       "    <tr>\n",
       "      <th>7</th>\n",
       "      <td>2019-11-07</td>\n",
       "      <td>17:29:58.11hr</td>\n",
       "      <td>11.49 N</td>\n",
       "      <td>19.29 W</td>\n",
       "      <td>PANAMA-COSTA RICA BORDER REGION</td>\n",
       "    </tr>\n",
       "    <tr>\n",
       "      <th>8</th>\n",
       "      <td>2019-11-07</td>\n",
       "      <td>17:18:00.01hr</td>\n",
       "      <td>34.27 N</td>\n",
       "      <td>55.02 E</td>\n",
       "      <td>NICARAGUA</td>\n",
       "    </tr>\n",
       "    <tr>\n",
       "      <th>9</th>\n",
       "      <td>2019-11-07</td>\n",
       "      <td>17:11:12.71hr</td>\n",
       "      <td>27.29 N</td>\n",
       "      <td>13.61 E</td>\n",
       "      <td>SANTA BARBARA CHANNEL, CALIF.</td>\n",
       "    </tr>\n",
       "    <tr>\n",
       "      <th>10</th>\n",
       "      <td>2019-11-07</td>\n",
       "      <td>16:50:25.02hr</td>\n",
       "      <td>41.77 N</td>\n",
       "      <td>13.61 E</td>\n",
       "      <td>SOUTHERN IRAN</td>\n",
       "    </tr>\n",
       "    <tr>\n",
       "      <th>11</th>\n",
       "      <td>2019-11-07</td>\n",
       "      <td>16:24:29.12hr</td>\n",
       "      <td>41.78 N</td>\n",
       "      <td>45.45 E</td>\n",
       "      <td>SOUTHERN ITALY</td>\n",
       "    </tr>\n",
       "    <tr>\n",
       "      <th>12</th>\n",
       "      <td>2019-11-07</td>\n",
       "      <td>15:40:53.73hr</td>\n",
       "      <td>12.85 S</td>\n",
       "      <td>77.18 W</td>\n",
       "      <td>SOUTHERN ITALY</td>\n",
       "    </tr>\n",
       "    <tr>\n",
       "      <th>13</th>\n",
       "      <td>2019-11-07</td>\n",
       "      <td>15:40:09.03hr</td>\n",
       "      <td>12.41 S</td>\n",
       "      <td>21.99 E</td>\n",
       "      <td>MAYOTTE REGION</td>\n",
       "    </tr>\n",
       "    <tr>\n",
       "      <th>14</th>\n",
       "      <td>2019-11-07</td>\n",
       "      <td>15:14:49.03hr</td>\n",
       "      <td>37.77 N</td>\n",
       "      <td>71.30 W</td>\n",
       "      <td>NEAR COAST OF CENTRAL PERU</td>\n",
       "    </tr>\n",
       "    <tr>\n",
       "      <th>15</th>\n",
       "      <td>2019-11-07</td>\n",
       "      <td>15:08:11.63hr</td>\n",
       "      <td>31.78 S</td>\n",
       "      <td>20.61 E</td>\n",
       "      <td>SOUTHERN GREECE</td>\n",
       "    </tr>\n",
       "    <tr>\n",
       "      <th>16</th>\n",
       "      <td>2019-11-07</td>\n",
       "      <td>15:01:10.84hr</td>\n",
       "      <td>39.14 N</td>\n",
       "      <td>11.59 E</td>\n",
       "      <td>COQUIMBO, CHILE</td>\n",
       "    </tr>\n",
       "    <tr>\n",
       "      <th>17</th>\n",
       "      <td>2019-11-07</td>\n",
       "      <td>14:54:15.54hr</td>\n",
       "      <td>43.93 N</td>\n",
       "      <td>68.55 W</td>\n",
       "      <td>GREECE</td>\n",
       "    </tr>\n",
       "    <tr>\n",
       "      <th>18</th>\n",
       "      <td>2019-11-07</td>\n",
       "      <td>14:52:50.54hr</td>\n",
       "      <td>31.37 S</td>\n",
       "      <td>68.63 W</td>\n",
       "      <td>CENTRAL ITALY</td>\n",
       "    </tr>\n",
       "    <tr>\n",
       "      <th>19</th>\n",
       "      <td>2019-11-07</td>\n",
       "      <td>14:37:54.34hr</td>\n",
       "      <td>21.65 S</td>\n",
       "      <td>13.23 E</td>\n",
       "      <td>SAN JUAN, ARGENTINA</td>\n",
       "    </tr>\n",
       "  </tbody>\n",
       "</table>\n",
       "</div>"
      ],
      "text/plain": [
       "           day           time latitude longitude  \\\n",
       "0   2019-11-07  18:00:57.01hr  35.72 N   21.06 W   \n",
       "1   2019-11-07  17:59:30.01hr  46.29 N   72.82 W   \n",
       "2   2019-11-07  17:54:30.01hr  46.32 N   55.64 W   \n",
       "3   2019-11-07  17:52:17.61hr  16.36 S   86.32 W   \n",
       "4   2019-11-07  17:48:50.61hr  19.14 N   55.14 E   \n",
       "5   2019-11-07  17:47:53.21hr  11.30 N   82.81 W   \n",
       "6   2019-11-07  17:35:21.71hr  27.08 N   85.98 W   \n",
       "7   2019-11-07  17:29:58.11hr  11.49 N   19.29 W   \n",
       "8   2019-11-07  17:18:00.01hr  34.27 N   55.02 E   \n",
       "9   2019-11-07  17:11:12.71hr  27.29 N   13.61 E   \n",
       "10  2019-11-07  16:50:25.02hr  41.77 N   13.61 E   \n",
       "11  2019-11-07  16:24:29.12hr  41.78 N   45.45 E   \n",
       "12  2019-11-07  15:40:53.73hr  12.85 S   77.18 W   \n",
       "13  2019-11-07  15:40:09.03hr  12.41 S   21.99 E   \n",
       "14  2019-11-07  15:14:49.03hr  37.77 N   71.30 W   \n",
       "15  2019-11-07  15:08:11.63hr  31.78 S   20.61 E   \n",
       "16  2019-11-07  15:01:10.84hr  39.14 N   11.59 E   \n",
       "17  2019-11-07  14:54:15.54hr  43.93 N   68.55 W   \n",
       "18  2019-11-07  14:52:50.54hr  31.37 S   68.63 W   \n",
       "19  2019-11-07  14:37:54.34hr  21.65 S   13.23 E   \n",
       "\n",
       "                              region  \n",
       "0                 CENTRAL CALIFORNIA  \n",
       "1                        SWITZERLAND  \n",
       "2                        SWITZERLAND  \n",
       "3        NEAR COAST OF SOUTHERN PERU  \n",
       "4           ISLAND OF HAWAII, HAWAII  \n",
       "5            NEAR COAST OF NICARAGUA  \n",
       "6                      SOUTHERN IRAN  \n",
       "7    PANAMA-COSTA RICA BORDER REGION  \n",
       "8                          NICARAGUA  \n",
       "9      SANTA BARBARA CHANNEL, CALIF.  \n",
       "10                     SOUTHERN IRAN  \n",
       "11                    SOUTHERN ITALY  \n",
       "12                    SOUTHERN ITALY  \n",
       "13                    MAYOTTE REGION  \n",
       "14        NEAR COAST OF CENTRAL PERU  \n",
       "15                   SOUTHERN GREECE  \n",
       "16                   COQUIMBO, CHILE  \n",
       "17                            GREECE  \n",
       "18                     CENTRAL ITALY  \n",
       "19               SAN JUAN, ARGENTINA  "
      ]
     },
     "execution_count": 200,
     "metadata": {},
     "output_type": "execute_result"
    }
   ],
   "source": [
    "df = pd.DataFrame(list(zip(fecha,hora,latitude,longitud,regionn)), \n",
    "                  columns=['day','time','latitude','longitude','region'])\n",
    "top= df.head(20)\n",
    "top"
   ]
  },
  {
   "cell_type": "markdown",
   "metadata": {},
   "source": [
    "#### Display the date, days, title, city, country of next 25 hackathon events as a Pandas dataframe table"
   ]
  },
  {
   "cell_type": "code",
   "execution_count": null,
   "metadata": {},
   "outputs": [],
   "source": [
    "# This is the url you will scrape in this exercise\n",
    "url ='https://hackevents.co/hackathons'"
   ]
  },
  {
   "cell_type": "code",
   "execution_count": null,
   "metadata": {},
   "outputs": [],
   "source": [
    "#your code\n",
    "\n",
    "\n",
    "'''\n",
    "mis amiguitos me han dicho que no funciona la página y da error\n",
    "'''"
   ]
  },
  {
   "cell_type": "markdown",
   "metadata": {},
   "source": [
    "#### Count number of tweets by a given Twitter account."
   ]
  },
  {
   "cell_type": "markdown",
   "metadata": {},
   "source": [
    "You will need to include a ***try/except block*** for account names not found. \n",
    "<br>***Hint:*** the program should count the number of tweets for any provided account"
   ]
  },
  {
   "cell_type": "code",
   "execution_count": 268,
   "metadata": {},
   "outputs": [],
   "source": [
    "# This is the url you will scrape in this exercise \n",
    "# You will need to add the account credentials to this url\n",
    "url = 'https://twitter.com/Clapiniella'"
   ]
  },
  {
   "cell_type": "code",
   "execution_count": 269,
   "metadata": {},
   "outputs": [],
   "source": [
    "#your code\n",
    "res= requests.get(url)\n",
    "html=res.text\n",
    "html[:10]\n",
    "soup = BeautifulSoup(html, \"html.parser\")"
   ]
  },
  {
   "cell_type": "code",
   "execution_count": 274,
   "metadata": {},
   "outputs": [
    {
     "name": "stdout",
     "output_type": "stream",
     "text": [
      "4555\n"
     ]
    }
   ],
   "source": [
    "try: \n",
    "    tweet_box = soup.find('li',{'class':'ProfileNav-item ProfileNav-item--tweets is-active'})\n",
    "    tweets= tweet_box.find('a').find('span',{'class':'ProfileNav-value'})\n",
    "    print(tweets.get('data-count'))\n",
    "except:\n",
    "    \"account name not found...\""
   ]
  },
  {
   "cell_type": "markdown",
   "metadata": {},
   "source": [
    "#### Number of followers of a given twitter account"
   ]
  },
  {
   "cell_type": "markdown",
   "metadata": {},
   "source": [
    "You will need to include a ***try/except block*** in case account/s name not found. \n",
    "<br>***Hint:*** the program should count the followers for any provided account"
   ]
  },
  {
   "cell_type": "code",
   "execution_count": 271,
   "metadata": {},
   "outputs": [],
   "source": [
    "# This is the url you will scrape in this exercise \n",
    "# You will need to add the account credentials to this url\n",
    "url = 'https://twitter.com/Clapiniella'"
   ]
  },
  {
   "cell_type": "code",
   "execution_count": 272,
   "metadata": {},
   "outputs": [],
   "source": [
    "#your code\n",
    "res= requests.get(url)\n",
    "html=res.text\n",
    "html[:10]\n",
    "soup = BeautifulSoup(html, \"html.parser\")"
   ]
  },
  {
   "cell_type": "code",
   "execution_count": 273,
   "metadata": {},
   "outputs": [
    {
     "name": "stdout",
     "output_type": "stream",
     "text": [
      "336\n"
     ]
    }
   ],
   "source": [
    "try:\n",
    "    tweet_box = soup.find('li',{'class':'ProfileNav-item ProfileNav-item--followers'})\n",
    "    tweets= tweet_box.find('a').find('span',{'class':'ProfileNav-value'})\n",
    "    print(tweets.get('data-count'))\n",
    "except:\n",
    "    \"account name not found...\""
   ]
  },
  {
   "cell_type": "markdown",
   "metadata": {},
   "source": [
    "#### List all language names and number of related articles in the order they appear in wikipedia.org"
   ]
  },
  {
   "cell_type": "code",
   "execution_count": 276,
   "metadata": {},
   "outputs": [],
   "source": [
    "# This is the url you will scrape in this exercise\n",
    "url = 'https://www.wikipedia.org/'"
   ]
  },
  {
   "cell_type": "code",
   "execution_count": 297,
   "metadata": {},
   "outputs": [],
   "source": [
    "#your code\n",
    "res= requests.get(url)\n",
    "html=res.content\n",
    "html[:10]\n",
    "soup = BeautifulSoup(html, \"html.parser\")\n"
   ]
  },
  {
   "cell_type": "code",
   "execution_count": 295,
   "metadata": {},
   "outputs": [
    {
     "data": {
      "text/plain": [
       "['Deutsch',\n",
       " 'English',\n",
       " 'Español',\n",
       " 'Français',\n",
       " 'Italiano',\n",
       " 'Nederlands',\n",
       " '日本語',\n",
       " 'Polski',\n",
       " 'Português',\n",
       " 'Русский',\n",
       " 'Sinugboanong Binisaya',\n",
       " 'Svenska',\n",
       " 'Tiếng Việt',\n",
       " 'Winaray',\n",
       " '中文',\n",
       " 'العربية',\n",
       " 'Azərbaycanca',\n",
       " 'Български',\n",
       " 'Bân-lâm-gú / Hō-ló-oē',\n",
       " 'Беларуская (Акадэмічная)',\n",
       " 'Català',\n",
       " 'Čeština',\n",
       " 'Dansk',\n",
       " 'Eesti',\n",
       " 'Ελληνικά',\n",
       " 'Esperanto',\n",
       " 'Euskara',\n",
       " 'فارسی',\n",
       " 'Galego',\n",
       " 'Հայերեն',\n",
       " 'हिन्दी',\n",
       " 'Hrvatski',\n",
       " 'Bahasa Indonesia',\n",
       " 'עברית',\n",
       " 'ქართული',\n",
       " 'Latina',\n",
       " 'Lietuvių',\n",
       " 'Magyar',\n",
       " 'Македонски',\n",
       " 'Bahasa Melayu',\n",
       " 'Bahaso Minangkabau',\n",
       " 'Bokmål',\n",
       " 'Nynorsk',\n",
       " 'Нохчийн',\n",
       " 'Oʻzbekcha / Ўзбекча',\n",
       " 'Қазақша / Qazaqşa / قازاقشا',\n",
       " 'Română',\n",
       " 'Cymraeg',\n",
       " 'Simple English',\n",
       " 'Slovenčina',\n",
       " 'Slovenščina',\n",
       " 'Српски / Srpski',\n",
       " 'Srpskohrvatski / Српскохрватски',\n",
       " 'Suomi',\n",
       " 'தமிழ்',\n",
       " 'ภาษาไทย',\n",
       " 'تۆرکجه',\n",
       " 'Türkçe',\n",
       " 'Українська',\n",
       " 'اردو',\n",
       " 'Volapük',\n",
       " '한국어',\n",
       " 'Afrikaans',\n",
       " 'Alemannisch',\n",
       " 'አማርኛ',\n",
       " 'Aragonés',\n",
       " 'Asturianu',\n",
       " 'বাংলা',\n",
       " 'Basa Banyumasan',\n",
       " 'Башҡортса',\n",
       " 'Беларуская (Тарашкевіца)',\n",
       " 'বিষ্ণুপ্রিয়া মণিপুরী',\n",
       " 'Boarisch',\n",
       " 'Bosanski',\n",
       " 'Brezhoneg',\n",
       " 'Чӑвашла',\n",
       " 'Emigliàn–Rumagnòl',\n",
       " 'Føroyskt',\n",
       " 'Frysk',\n",
       " 'Gaeilge',\n",
       " 'Gàidhlig',\n",
       " 'ગુજરાતી',\n",
       " 'Hornjoserbsce',\n",
       " 'Ido',\n",
       " 'Ilokano',\n",
       " 'Interlingua',\n",
       " 'Ирон æвзаг',\n",
       " 'Íslenska',\n",
       " 'Jawa',\n",
       " 'ಕನ್ನಡ',\n",
       " 'Kreyòl Ayisyen',\n",
       " 'Kurdî / كوردی',\n",
       " 'کوردیی ناوەندی',\n",
       " 'Кыргызча',\n",
       " 'Кырык Мары',\n",
       " 'Latviešu',\n",
       " 'Lëtzebuergesch',\n",
       " 'Limburgs',\n",
       " 'Lumbaart',\n",
       " 'मैथिली',\n",
       " 'Malagasy',\n",
       " 'മലയാളം',\n",
       " '文言',\n",
       " 'मराठी',\n",
       " 'მარგალური',\n",
       " 'مصرى',\n",
       " 'مازِرونی',\n",
       " 'Mìng-dĕ̤ng-ngṳ̄ / 閩東語',\n",
       " 'Монгол',\n",
       " 'မြန်မာဘာသာ',\n",
       " 'नेपाल भाषा',\n",
       " 'नेपाली',\n",
       " 'Nnapulitano',\n",
       " 'Occitan',\n",
       " 'Марий',\n",
       " 'ଓଡି଼ଆ',\n",
       " 'ਪੰਜਾਬੀ (ਗੁਰਮੁਖੀ)',\n",
       " 'پنجابی (شاہ مکھی)',\n",
       " 'پښتو',\n",
       " 'Piemontèis',\n",
       " 'Plattdüütsch',\n",
       " 'Runa Simi',\n",
       " 'संस्कृतम्',\n",
       " 'Саха Тыла',\n",
       " 'Scots',\n",
       " 'Shqip',\n",
       " 'Sicilianu',\n",
       " 'සිංහල',\n",
       " 'سنڌي',\n",
       " 'Ślůnski',\n",
       " 'Basa Sunda',\n",
       " 'Kiswahili',\n",
       " 'Tagalog',\n",
       " 'Татарча / Tatarça',\n",
       " 'తెలుగు',\n",
       " 'Тоҷикӣ',\n",
       " 'ᨅᨔ ᨕᨙᨁᨗ / Basa Ugi',\n",
       " 'Vèneto',\n",
       " 'Walon',\n",
       " '吳語',\n",
       " 'ייִדיש',\n",
       " 'Yorùbá',\n",
       " '粵語',\n",
       " 'Zazaki',\n",
       " 'Žemaitėška',\n",
       " 'Bahsa Acèh',\n",
       " 'Адыгэбзэ',\n",
       " 'Ænglisc',\n",
       " 'Аҧсуа',\n",
       " 'Արեւմտահայերէն',\n",
       " 'Armãneashce',\n",
       " 'Arpitan',\n",
       " 'asụsụ bekee maọbụ asụsụ oyibo',\n",
       " 'ܐܬܘܪܝܐ',\n",
       " 'Avañe’ẽ',\n",
       " 'Авар',\n",
       " 'Aymar',\n",
       " 'Bahasa Banjar',\n",
       " 'भोजपुरी',\n",
       " 'Bikol Central',\n",
       " 'Bislama',\n",
       " 'བོད་ཡིག',\n",
       " 'Буряад',\n",
       " 'Chavacano de Zamboanga',\n",
       " 'Corsu',\n",
       " 'Vahcuengh / 話僮',\n",
       " 'Davvisámegiella',\n",
       " 'Deitsch',\n",
       " 'Diné Bizaad',\n",
       " 'Dolnoserbski',\n",
       " 'Эрзянь',\n",
       " 'Estremeñu',\n",
       " 'Fiji Hindi',\n",
       " 'Furlan',\n",
       " 'Gaelg',\n",
       " 'Gagauz',\n",
       " 'Gĩkũyũ',\n",
       " 'گیلکی',\n",
       " '贛語',\n",
       " 'Hak-kâ-ngî / 客家語',\n",
       " 'Хальмг',\n",
       " 'Hausa / هَوُسَا',\n",
       " 'ʻŌlelo Hawaiʻi',\n",
       " 'Interlingue',\n",
       " 'Kalaallisut',\n",
       " 'Kapampangan',\n",
       " 'Kaszëbsczi',\n",
       " 'Kernewek',\n",
       " 'ភាសាខ្មែរ',\n",
       " 'Kinyarwanda',\n",
       " 'Коми',\n",
       " 'Kongo',\n",
       " 'कोंकणी / Konknni',\n",
       " 'ພາສາລາວ',\n",
       " 'Dzhudezmo / לאדינו',\n",
       " 'Лакку',\n",
       " 'Лезги',\n",
       " 'Lingála',\n",
       " 'lojban',\n",
       " 'لۊری شومالی',\n",
       " 'Luganda',\n",
       " 'Lìgure',\n",
       " 'Malti',\n",
       " 'Reo Mā’ohi',\n",
       " 'Māori',\n",
       " 'Mirandés',\n",
       " 'Мокшень',\n",
       " 'Nāhuatlahtōlli',\n",
       " 'Dorerin Naoero',\n",
       " 'Nedersaksisch',\n",
       " 'Nordfriisk',\n",
       " 'Nouormand / Normaund',\n",
       " 'Novial',\n",
       " 'অসমীযা়',\n",
       " 'पालि',\n",
       " 'Pangasinán',\n",
       " 'Papiamentu',\n",
       " 'Перем Коми',\n",
       " 'Pfälzisch',\n",
       " 'Picard',\n",
       " 'Къарачай–Малкъар',\n",
       " 'Qaraqalpaqsha',\n",
       " 'Qırımtatarca',\n",
       " 'Ripoarisch',\n",
       " 'Rumantsch',\n",
       " 'Русиньскый Язык',\n",
       " 'Sardu',\n",
       " 'Seeltersk',\n",
       " 'Sesotho sa Leboa',\n",
       " 'ChiShona',\n",
       " 'Soomaaliga',\n",
       " 'Sranantongo',\n",
       " 'Taqbaylit',\n",
       " 'Tarandíne',\n",
       " 'Tetun',\n",
       " 'Tok Pisin',\n",
       " 'faka Tonga',\n",
       " 'Türkmençe',\n",
       " 'Тыва дыл',\n",
       " 'Удмурт',\n",
       " 'ئۇيغۇرچه',\n",
       " 'Vepsän',\n",
       " 'Võro',\n",
       " 'West-Vlams',\n",
       " 'Wolof',\n",
       " 'isiXhosa',\n",
       " 'Zeêuws',\n",
       " 'isiZulu',\n",
       " 'ދިވެހިބަސް',\n",
       " 'Akan',\n",
       " 'Bamanankan',\n",
       " 'Chamoru',\n",
       " 'Chichewa',\n",
       " 'Eʋegbe',\n",
       " 'Fulfulde',\n",
       " '𐌲𐌿𐍄𐌹𐍃𐌺',\n",
       " 'ᐃᓄᒃᑎᑐᑦ / Inuktitut',\n",
       " 'Iñupiak',\n",
       " 'كشميري',\n",
       " 'Latgaļu',\n",
       " 'Na Vosa Vaka-Viti',\n",
       " 'Nēhiyawēwin / ᓀᐦᐃᔭᐍᐏᐣ',\n",
       " 'Norfuk / Pitkern',\n",
       " 'Afaan Oromoo',\n",
       " 'Ποντιακά',\n",
       " 'རྫོང་ཁ',\n",
       " 'Romani',\n",
       " 'Kirundi',\n",
       " 'Gagana Sāmoa',\n",
       " 'Sängö',\n",
       " 'Sesotho',\n",
       " 'Setswana',\n",
       " 'Словѣ́ньскъ / ⰔⰎⰑⰂⰡⰐⰠⰔⰍⰟ',\n",
       " 'SiSwati',\n",
       " 'ትግርኛ',\n",
       " 'ᏣᎳᎩ',\n",
       " 'Tsėhesenėstsestotse',\n",
       " 'Tshivenḓa',\n",
       " 'Xitsonga',\n",
       " 'chiTumbuka',\n",
       " 'Twi',\n",
       " 'ߒߞߏ',\n",
       " 'Other languages',\n",
       " 'Weitere Sprachen',\n",
       " 'Autres langues',\n",
       " 'Kompletna lista języków',\n",
       " '他の言語',\n",
       " 'Otros idiomas',\n",
       " '其他語言',\n",
       " 'Другие языки',\n",
       " 'Aliaj lingvoj',\n",
       " '다른 언어',\n",
       " 'Ngôn ngữ khác']"
      ]
     },
     "execution_count": 295,
     "metadata": {},
     "output_type": "execute_result"
    }
   ],
   "source": [
    "find = soup.select('a[lang]')\n",
    "list(map(lambda a: a.text ,find))"
   ]
  },
  {
   "cell_type": "markdown",
   "metadata": {},
   "source": [
    "#### A list with the different kind of datasets available in data.gov.uk "
   ]
  },
  {
   "cell_type": "code",
   "execution_count": 301,
   "metadata": {},
   "outputs": [],
   "source": [
    "# This is the url you will scrape in this exercise\n",
    "url = 'https://data.gov.uk/'"
   ]
  },
  {
   "cell_type": "code",
   "execution_count": 302,
   "metadata": {},
   "outputs": [
    {
     "name": "stdout",
     "output_type": "stream",
     "text": [
      "Business and economy\n",
      "Crime and justice\n",
      "Defence\n",
      "Education\n",
      "Environment\n",
      "Government\n",
      "Government spending\n",
      "Health\n",
      "Mapping\n",
      "Society\n",
      "Towns and cities\n",
      "Transport\n"
     ]
    }
   ],
   "source": [
    "#your code \n",
    "res = requests.get(url)\n",
    "html = res.text\n",
    "soup = BeautifulSoup(html, 'html.parser')\n",
    "kinds= soup.select(\"ol li h2\")\n",
    "\n",
    "for e in kinds:\n",
    "    print(e.text)"
   ]
  },
  {
   "cell_type": "markdown",
   "metadata": {},
   "source": [
    "#### Top 10 languages by number of native speakers stored in a Pandas Dataframe"
   ]
  },
  {
   "cell_type": "code",
   "execution_count": null,
   "metadata": {},
   "outputs": [],
   "source": [
    "# This is the url you will scrape in this exercise\n",
    "url = 'https://en.wikipedia.org/wiki/List_of_languages_by_number_of_native_speakers'"
   ]
  },
  {
   "cell_type": "code",
   "execution_count": null,
   "metadata": {},
   "outputs": [],
   "source": [
    "#your code"
   ]
  },
  {
   "cell_type": "markdown",
   "metadata": {},
   "source": [
    "### BONUS QUESTIONS"
   ]
  },
  {
   "cell_type": "markdown",
   "metadata": {},
   "source": [
    "#### Scrape a certain number of tweets of a given Twitter account."
   ]
  },
  {
   "cell_type": "code",
   "execution_count": null,
   "metadata": {},
   "outputs": [],
   "source": [
    "# This is the url you will scrape in this exercise \n",
    "# You will need to add the account credentials to this url\n",
    "url = 'https://twitter.com/'"
   ]
  },
  {
   "cell_type": "code",
   "execution_count": null,
   "metadata": {},
   "outputs": [],
   "source": [
    "# your code"
   ]
  },
  {
   "cell_type": "markdown",
   "metadata": {},
   "source": [
    "#### IMDB's Top 250 data (movie name, Initial release, director name and stars) as a pandas dataframe"
   ]
  },
  {
   "cell_type": "code",
   "execution_count": null,
   "metadata": {},
   "outputs": [],
   "source": [
    "# This is the url you will scrape in this exercise \n",
    "url = 'https://www.imdb.com/chart/top'"
   ]
  },
  {
   "cell_type": "code",
   "execution_count": null,
   "metadata": {},
   "outputs": [],
   "source": [
    "# your code"
   ]
  },
  {
   "cell_type": "markdown",
   "metadata": {},
   "source": [
    "#### Movie name, year and a brief summary of the top 10 random movies (IMDB) as a pandas dataframe."
   ]
  },
  {
   "cell_type": "code",
   "execution_count": null,
   "metadata": {},
   "outputs": [],
   "source": [
    "#This is the url you will scrape in this exercise\n",
    "url = 'http://www.imdb.com/chart/top'"
   ]
  },
  {
   "cell_type": "code",
   "execution_count": null,
   "metadata": {},
   "outputs": [],
   "source": [
    "#your code"
   ]
  },
  {
   "cell_type": "markdown",
   "metadata": {},
   "source": [
    "#### Find the live weather report (temperature, wind speed, description and weather) of a given city."
   ]
  },
  {
   "cell_type": "code",
   "execution_count": null,
   "metadata": {},
   "outputs": [],
   "source": [
    "#https://openweathermap.org/current\n",
    "city = city=input('Enter the city:')\n",
    "url = 'http://api.openweathermap.org/data/2.5/weather?'+'q='+city+'&APPID=b35975e18dc93725acb092f7272cc6b8&units=metric'"
   ]
  },
  {
   "cell_type": "code",
   "execution_count": null,
   "metadata": {},
   "outputs": [],
   "source": [
    "# your code"
   ]
  },
  {
   "cell_type": "markdown",
   "metadata": {},
   "source": [
    "#### Book name,price and stock availability as a pandas dataframe."
   ]
  },
  {
   "cell_type": "code",
   "execution_count": null,
   "metadata": {},
   "outputs": [],
   "source": [
    "# This is the url you will scrape in this exercise. \n",
    "# It is a fictional bookstore created to be scraped. \n",
    "url = 'http://books.toscrape.com/'"
   ]
  },
  {
   "cell_type": "code",
   "execution_count": null,
   "metadata": {},
   "outputs": [],
   "source": [
    "#your code"
   ]
  }
 ],
 "metadata": {
  "kernelspec": {
   "display_name": "Python 3",
   "language": "python",
   "name": "python3"
  },
  "language_info": {
   "codemirror_mode": {
    "name": "ipython",
    "version": 3
   },
   "file_extension": ".py",
   "mimetype": "text/x-python",
   "name": "python",
   "nbconvert_exporter": "python",
   "pygments_lexer": "ipython3",
   "version": "3.7.5rc1"
  }
 },
 "nbformat": 4,
 "nbformat_minor": 2
}
